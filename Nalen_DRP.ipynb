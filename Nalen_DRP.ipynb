{
 "cells": [
  {
   "cell_type": "code",
   "execution_count": 2,
   "id": "86fd1910",
   "metadata": {
    "slideshow": {
     "slide_type": "skip"
    }
   },
   "outputs": [],
   "source": [
    "import matplotlib.pyplot as plt\n",
    "import networkx as nx\n",
    "import numpy as np\n",
    "# import cdd\n",
    "import math\n",
    "import cvxpy as cvx\n",
    "# from collections import deque\n",
    "import random\n",
    "import warnings\n",
    "\n",
    "warnings.filterwarnings('ignore', category=FutureWarning)"
   ]
  },
  {
   "cell_type": "markdown",
   "id": "5ba01ce5",
   "metadata": {
    "slideshow": {
     "slide_type": "slide"
    }
   },
   "source": [
    "# Modulus of families of maximal increasing subsequences of permutations"
   ]
  },
  {
   "cell_type": "markdown",
   "id": "29fcd1c8",
   "metadata": {
    "slideshow": {
     "slide_type": "slide"
    }
   },
   "source": [
    "### Information\n",
    "Student: Nalen Rangarajan\n",
    "\n",
    "Graduate Mentor: Ngoc Huy Truong\\\n",
    "Faculty Mentor: Pietro Poggi-Corradini\n",
    "\n",
    "under NODE Group activities"
   ]
  },
  {
   "cell_type": "markdown",
   "id": "8f3bc57b",
   "metadata": {
    "slideshow": {
     "slide_type": "slide"
    }
   },
   "source": [
    "### Items Read\n",
    "Mathematics of Networks: Modulus Theory and Convex Optimization, Nathan Albin and Pietro Poggi-Corradini\n",
    "\n",
    "Finding a Minimum Independent Dominating Set in a Permutation Graph, Mikhail J. Atallah et al.\n",
    "\n",
    "Maintenance of Configurations in the plane, Mark H. Overmars and Jan van Leeuwen\n",
    "\n",
    "Combinatorics and Random Matrix Theory, Jinho Baik"
   ]
  },
  {
   "cell_type": "markdown",
   "id": "fa713a56",
   "metadata": {
    "slideshow": {
     "slide_type": "slide"
    }
   },
   "source": [
    "### Permutations\n",
    "\n",
    "An ordering of elements\n",
    "\n",
    "Consider a permutation of the elements $1,\\dots,8$"
   ]
  },
  {
   "cell_type": "markdown",
   "id": "215fda90",
   "metadata": {},
   "source": [
    "$$\n",
    "\\pi = 2\\ 7\\ 1\\ 6\\ 4\\ 3\\ 5\\ 8\\\n",
    "$$"
   ]
  },
  {
   "cell_type": "code",
   "execution_count": 3,
   "id": "4fc2ed39",
   "metadata": {
    "slideshow": {
     "slide_type": "skip"
    }
   },
   "outputs": [
    {
     "data": {
      "image/png": "[encoded data removed]",
      "text/plain": [
       "<Figure size 300x300 with 1 Axes>"
      ]
     },
     "metadata": {},
     "output_type": "display_data"
    }
   ],
   "source": [
    "pi =  [2, 7, 1, 6, 4, 3, 5, 8]\n",
    "x = range(1,9)\n",
    "\n",
    "# initialize figure\n",
    "fig, fig = plt.subplots(figsize=(3, 3))\n",
    "    \n",
    "plt.scatter(x,pi)\n",
    "\n",
    "# Set the ticks to be at the edges of the bins.\n",
    "fig.set_xticks(range(0,9))\n",
    "fig.set_yticks(range(0,9))\n",
    "plt.grid(True)"
   ]
  },
  {
   "cell_type": "markdown",
   "id": "cc930fe0",
   "metadata": {
    "slideshow": {
     "slide_type": "fragment"
    }
   },
   "source": [
    "<table>\n",
    "<tr>\n",
    "<td>\n",
    "<img src=\"images/NalenDRPImages/Permutation8.png\" width=\"400\">\n",
    "</td>\n",
    "</tr>\n",
    "</table>"
   ]
  },
  {
   "cell_type": "markdown",
   "id": "93c4fe85",
   "metadata": {
    "slideshow": {
     "slide_type": "slide"
    }
   },
   "source": [
    "### Maximal Increasing Subsequences (MISS)\n",
    "\n",
    "A subsequence of elements in a permutation that cannot be extended\n",
    "\n",
    "Given our permutation $2\\ 7\\ 1\\ 6\\ 4\\ 3\\ 5\\ 8\\,$\n",
    "\n",
    "$2\\ 4\\ 5\\ 8\\ $ is a maximal increasing subsequence \n",
    "\n",
    "that corresponds to the indices $1\\ 5\\ 7\\ 8\\ $"
   ]
  },
  {
   "cell_type": "code",
   "execution_count": 4,
   "id": "c40337de",
   "metadata": {
    "hide_input": true,
    "slideshow": {
     "slide_type": "skip"
    }
   },
   "outputs": [
    {
     "data": {
      "image/png": "[encoded data removed]",
      "text/plain": [
       "<Figure size 300x300 with 1 Axes>"
      ]
     },
     "metadata": {},
     "output_type": "display_data"
    }
   ],
   "source": [
    "#small helper image\n",
    "pi =  [2, 7, 1, 6, 4, 3, 5, 8]\n",
    "x = range(1,9)\n",
    "\n",
    "max = [2, 4, 5, 8]\n",
    "maxI = [1, 5, 7, 8]\n",
    "\n",
    "# initialize figure\n",
    "fig, fig = plt.subplots(figsize=(3, 3))\n",
    "    \n",
    "plt.scatter(x,pi)\n",
    "#plt.plot(badI,bad)\n",
    "plt.plot(maxI,max)\n",
    "\n",
    "# Set the ticks to be at the edges of the bins.\n",
    "fig.set_xticks(range(0,9))\n",
    "fig.set_yticks(range(0,9))\n",
    "plt.grid(True)"
   ]
  },
  {
   "cell_type": "markdown",
   "id": "8cc93326",
   "metadata": {
    "slideshow": {
     "slide_type": "fragment"
    }
   },
   "source": [
    "<table>\n",
    "<tr>\n",
    "<td>\n",
    "<img src=\"images/NalenDRPImages/Permutation8MISS.png\" width=\"400\">\n",
    "</td>\n",
    "</tr>\n",
    "</table>"
   ]
  },
  {
   "cell_type": "markdown",
   "id": "b61d62ba",
   "metadata": {
    "slideshow": {
     "slide_type": "slide"
    }
   },
   "source": [
    "### Families\n",
    "\n",
    "$\\Gamma$ represents a family of objects $\\gamma$\n",
    "\n",
    "We then define $\\mathcal{N}$ to be the usage matrix of objects in $\\Gamma$\n",
    "\n",
    "With the previous MISS the row entry in $\\mathcal{N}$ would \n",
    "\n",
    "be $\\begin{bmatrix} 1 & 0 & 0 & 0 & 1 & 0 & 1 & 1 \\end{bmatrix}$"
   ]
  },
  {
   "cell_type": "markdown",
   "id": "bae9a331",
   "metadata": {
    "slideshow": {
     "slide_type": "slide"
    }
   },
   "source": [
    "### Weightings\n",
    "\n",
    "We define our node density $\\rho \\in \\mathbb{R}_{+}^{N}$ and the $\\rho$-length as $\\ell_\\rho(\\gamma) := \\sum_{v = 1}^{N} \\mathcal{N}(\\gamma, v)\\rho(v)$ (the \"cost\" of a MISS)\n",
    "\n",
    "And admissibility as $\\rho$ is admissible for $\\Gamma$ if $\\ell_{\\rho}(\\gamma) \\geq 1 \\: \\: \\:\\forall \\gamma \\in \\Gamma$\n",
    "\n",
    "We then define the p-Modulus as $\\text{Mod}_p(\\Gamma) := \\inf\\limits_{\\rho \\in \\text{Adm}(\\Gamma)}\\sum_{v=1}^{\\text{N}}\\rho(v)^p$"
   ]
  },
  {
   "cell_type": "markdown",
   "id": "6e0cfedb",
   "metadata": {
    "slideshow": {
     "slide_type": "subslide"
    }
   },
   "source": [
    "For example:\n",
    "\n",
    "We see that the 1-Modulus is defined as $\\text{Mod}_1(\\Gamma) := \\inf\\limits_{\\rho \\in \\text{Adm}(\\Gamma)}\\sum_{v=1}^{\\text{N}}\\rho(v)$\n",
    "\n",
    "And the 2-Modulus is defined as $\\text{Mod}_2(\\Gamma) := \\inf\\limits_{\\rho \\in \\text{Adm}(\\Gamma)}\\sum_{v=1}^{\\text{N}}\\rho(v)^2$"
   ]
  },
  {
   "cell_type": "markdown",
   "id": "2a3a9fcf",
   "metadata": {
    "slideshow": {
     "slide_type": "slide"
    }
   },
   "source": [
    "### Two algorithms for computing Modulus:\n",
    "+ Basic Algorithm\n",
    "+ Plus-1 Algorithm"
   ]
  },
  {
   "cell_type": "markdown",
   "id": "04b3210e",
   "metadata": {
    "slideshow": {
     "slide_type": "subslide"
    }
   },
   "source": [
    "<table>\n",
    "<tr>\n",
    "<td>\n",
    "<img src=\"images/basic.png\" width=\"400\">\n",
    "</td>\n",
    "<td>\n",
    "<img src=\"images/new_plusone.png\" width=\"400\">\n",
    "</td>\n",
    "</tr>\n",
    "</table>"
   ]
  },
  {
   "cell_type": "markdown",
   "id": "6782e4f9",
   "metadata": {
    "slideshow": {
     "slide_type": "fragment"
    }
   },
   "source": [
    "The Basic Algorithm results in a convex optimization problem\n",
    "\n",
    "While the Plus-1 Algorithm results in a probabilistic approach"
   ]
  },
  {
   "cell_type": "markdown",
   "id": "0f495480",
   "metadata": {
    "slideshow": {
     "slide_type": "slide"
    }
   },
   "source": [
    "### The Problem\n",
    "\n",
    "The shortest_path() function is slow\n",
    "\n",
    "Goal: Find a more efficient algorithm for computing the shortest_path"
   ]
  },
  {
   "cell_type": "markdown",
   "id": "bcf54c27",
   "metadata": {
    "slideshow": {
     "slide_type": "slide"
    }
   },
   "source": [
    "### Our Implementation\n",
    "\n",
    "From here we now turn to the process of implementing an algorithm to find a minimum weight MISS from Atallah et al\n",
    "\n",
    "We first begin with implementing the work done by Mark H. Overmars and Jan van Leeuwen"
   ]
  },
  {
   "cell_type": "markdown",
   "id": "705f4f87",
   "metadata": {
    "slideshow": {
     "slide_type": "slide"
    }
   },
   "source": [
    "### Structure\n",
    "\n",
    "This algorithm for finding a minimum weight MISS results in the maintenance of a tree structure where each node maintains a list of nodes below it\n",
    "\n",
    "For example:\n",
    "\n",
    "Using our earlier permutation $ \\pi = 2\\ 7\\ 1\\ 6\\ 4\\ 3\\ 5\\ 8\\ $\n",
    "\n",
    "We get this tree:"
   ]
  },
  {
   "cell_type": "markdown",
   "id": "45edbba1",
   "metadata": {
    "slideshow": {
     "slide_type": "fragment"
    }
   },
   "source": [
    "<table>\n",
    "<tr>\n",
    "<td>\n",
    "<img src=\"images/NalenDRPImages/AVLPerm8.png\" width=\"650\">\n",
    "</td>\n",
    "</tr>\n",
    "</table>"
   ]
  },
  {
   "cell_type": "markdown",
   "id": "eea5d33e",
   "metadata": {
    "slideshow": {
     "slide_type": "subslide"
    }
   },
   "source": [
    "This structure lends itself to a representation of MISS\n",
    "\n",
    "From this structure we get the following MISS:\n",
    "$$\n",
    "    [ 1\\ 2\\ 8\\ ]\n",
    "$$\n",
    "$$\n",
    "    [ 1\\ 4\\ 8\\ ]\n",
    "$$\n",
    "$$\n",
    "    [ 3\\ 4\\ 8\\ ]\n",
    "$$\n",
    "$$\n",
    "    [ 1\\ 5\\ 7\\ 8\\ ]\n",
    "$$\n",
    "$$\n",
    "    [ 3\\ 5\\ 7\\ 8\\ ]\n",
    "$$\n",
    "$$\n",
    "    [ 1\\ 3\\ 6\\ 8\\ ]\n",
    "$$\n",
    "$$\n",
    "    [ 3\\ 6\\ 7\\ 8\\ ]\n",
    "$$"
   ]
  },
  {
   "cell_type": "markdown",
   "id": "e0447ccd",
   "metadata": {
    "slideshow": {
     "slide_type": "slide"
    }
   },
   "source": [
    "### Walkthrough of Implementation\n",
    "\n",
    "Additionally, this implementation also allows for concatenation of permutations\n",
    "\n",
    "Let's call the earlier permutation $\\pi_1$ and we will denote $ \\pi_2 = 12\\ 9\\ 10\\ 11\\ $\n",
    "\n"
   ]
  },
  {
   "cell_type": "markdown",
   "id": "fb936acf",
   "metadata": {},
   "source": [
    "We first create two trees called tree_1 and tree_2 representing the two permutations $ \\pi_1 $ and $ \\pi_2 $"
   ]
  },
  {
   "cell_type": "markdown",
   "id": "96ee258b",
   "metadata": {},
   "source": [
    "<table>\n",
    "<tr>\n",
    "<td>\n",
    "<img src=\"images/NalenDRPImages/AVLPerm8.png\" width=\"700\">\n",
    "</td>\n",
    "<td>\n",
    "<img src=\"images/NalenDRPImages/AVLPerm4.png\" width=\"700\">\n",
    "</td>\n",
    "</tr>\n",
    "</table>"
   ]
  },
  {
   "cell_type": "markdown",
   "id": "8b5dcf6c",
   "metadata": {
    "slideshow": {
     "slide_type": "slide"
    }
   },
   "source": [
    "### Down\n",
    "The first step in the concatenation of these two permutations is a process called Down\n",
    "\n",
    "This function allows us to traverse through a tree in search for a specific node, or in our case the right-most node"
   ]
  },
  {
   "cell_type": "markdown",
   "id": "d06cbf77",
   "metadata": {
    "slideshow": {
     "slide_type": "subslide"
    }
   },
   "source": [
    "<table>\n",
    "<tr>\n",
    "<td>\n",
    "<img src=\"images/NalenDRPImages/Down.png\" width=\"600\">\n",
    "</td>\n",
    "</tr>\n",
    "</table>"
   ]
  },
  {
   "cell_type": "markdown",
   "id": "f5b04450",
   "metadata": {
    "slideshow": {
     "slide_type": "slide"
    }
   },
   "source": [
    "### Up\n",
    "\n",
    "The next step upon finding this node is to insert tree_2 as a child of this right-most node in tree_1\n",
    "\n",
    "From here we use the Up function to drag tree_2 up into tree_1"
   ]
  },
  {
   "cell_type": "markdown",
   "id": "ee081ae5",
   "metadata": {
    "slideshow": {
     "slide_type": "subslide"
    }
   },
   "source": [
    "<table>\n",
    "<tr>\n",
    "<td>\n",
    "<img src=\"images/NalenDRPImages/Up.png\" width=\"500\">\n",
    "</td>\n",
    "</tr>\n",
    "</table>"
   ]
  },
  {
   "cell_type": "markdown",
   "id": "3b7d0059",
   "metadata": {
    "slideshow": {
     "slide_type": "slide"
    }
   },
   "source": [
    "<table>\n",
    "<tr>\n",
    "<td>\n",
    "<img src=\"images/NalenDRPImages/BeginningUp.png\" width=\"350\">\n",
    "</td>\n",
    "</tr>\n",
    "</table>"
   ]
  },
  {
   "cell_type": "markdown",
   "id": "2783575d",
   "metadata": {
    "slideshow": {
     "slide_type": "slide"
    }
   },
   "source": [
    "### Drag Up The Tree"
   ]
  },
  {
   "cell_type": "markdown",
   "id": "3c6de70a",
   "metadata": {
    "slideshow": {
     "slide_type": "subslide"
    }
   },
   "source": [
    "<table>\n",
    "<tr>\n",
    "<td>\n",
    "<img src=\"images/NalenDRPImages/Step2Up.png\" width=\"350\">\n",
    "</td>\n",
    "</tr>\n",
    "</table>"
   ]
  },
  {
   "cell_type": "markdown",
   "id": "7bd2ae9f",
   "metadata": {
    "slideshow": {
     "slide_type": "subslide"
    }
   },
   "source": [
    "<table>\n",
    "<tr>\n",
    "<td>\n",
    "<img src=\"images/NalenDRPImages/Step3Up.png\" width=\"350\">\n",
    "</td>\n",
    "</tr>\n",
    "</table>"
   ]
  },
  {
   "cell_type": "markdown",
   "id": "5463f24a",
   "metadata": {
    "slideshow": {
     "slide_type": "subslide"
    }
   },
   "source": [
    "<table>\n",
    "<tr>\n",
    "<td>\n",
    "<img src=\"images/NalenDRPImages/Step4Up.png\" width=\"350\">\n",
    "</td>\n",
    "</tr>\n",
    "</table>"
   ]
  },
  {
   "cell_type": "markdown",
   "id": "1b70a666",
   "metadata": {
    "slideshow": {
     "slide_type": "subslide"
    }
   },
   "source": [
    "<table>\n",
    "<tr>\n",
    "<td>\n",
    "<img src=\"images/NalenDRPImages/Step5Up.png\" width=\"350\">\n",
    "</td>\n",
    "</tr>\n",
    "</table>"
   ]
  },
  {
   "cell_type": "markdown",
   "id": "561a790b",
   "metadata": {
    "slideshow": {
     "slide_type": "slide"
    }
   },
   "source": [
    "### Finishing Touches\n",
    "\n",
    "Lastly we ensure that our tree is balanced and from there we have completed the concatenation of $ \\pi_1 $ and $ \\pi_2 $"
   ]
  },
  {
   "cell_type": "markdown",
   "id": "14dc2eaf",
   "metadata": {
    "slideshow": {
     "slide_type": "fragment"
    }
   },
   "source": [
    "<table>\n",
    "<tr>\n",
    "<td>\n",
    "<img src=\"images/NalenDRPImages/FinalTree.png\" width=\"350\">\n",
    "</td>\n",
    "</tr>\n",
    "</table>"
   ]
  },
  {
   "cell_type": "markdown",
   "id": "1c151f12",
   "metadata": {
    "slideshow": {
     "slide_type": "slide"
    }
   },
   "source": [
    "### Concatenate\n",
    "\n",
    "This entire process is encompassed in the following pseudocode"
   ]
  },
  {
   "cell_type": "markdown",
   "id": "d57c6f92",
   "metadata": {
    "slideshow": {
     "slide_type": "subslide"
    }
   },
   "source": [
    "<table>\n",
    "<tr>\n",
    "<td>\n",
    "<img src=\"images/NalenDRPImages/Concatenate.png\" width=\"350\">\n",
    "</td>\n",
    "</tr>\n",
    "</table>"
   ]
  },
  {
   "cell_type": "markdown",
   "id": "50c79f24",
   "metadata": {
    "slideshow": {
     "slide_type": "slide"
    }
   },
   "source": [
    "### Resulting MISS\n",
    "\n",
    "$$\n",
    "    [ 1\\ 2\\ 8\\ 9\\ ]\n",
    "$$\n",
    "$$\n",
    "    [ 1\\ 4\\ 8\\ 9\\ ]\n",
    "$$\n",
    "$$\n",
    "    [ 3\\ 4\\ 8\\ 9\\ ]\n",
    "$$\n",
    "$$\n",
    "    [ 1\\ 5\\ 7\\ 8\\ 9\\ ]\n",
    "$$\n",
    "$$\n",
    "    [ 3\\ 5\\ 7\\ 8\\ 9\\ ]\n",
    "$$\n",
    "$$\n",
    "    [ 1\\ 6\\ 7\\ 8\\ 9\\ ]\n",
    "$$\n",
    "$$\n",
    "    [ 3\\ 6\\ 7\\ 8\\ 9\\ ]\n",
    "$$\n",
    "$$\n",
    "    [ 1\\ 2\\ 8\\ 10\\ 11\\ 12\\ ]\n",
    "$$\n",
    "$$\n",
    "    [ 1\\ 4\\ 8\\ 10\\ 11\\ 12\\ ]\n",
    "$$\n",
    "$$\n",
    "    [ 3\\ 4\\ 8\\ 10\\ 11\\ 12\\ ]\n",
    "$$\n",
    "$$\n",
    "    [ 1\\ 5\\ 7\\ 8\\ 10\\ 11\\ 12\\ ]\n",
    "$$\n",
    "$$\n",
    "    [ 3\\ 5\\ 7\\ 8\\ 10\\ 11\\ 12\\ ]\n",
    "$$\n",
    "$$\n",
    "    [ 1\\ 6\\ 7\\ 8\\ 10\\ 11\\ 12\\ ]\n",
    "$$\n",
    "$$\n",
    "    [ 3\\ 6\\ 7\\ 8\\ 10\\ 11\\ 12\\ ]\n",
    "$$"
   ]
  },
  {
   "cell_type": "markdown",
   "id": "a3ec55eb",
   "metadata": {
    "slideshow": {
     "slide_type": "slide"
    }
   },
   "source": [
    "### Future Work\n",
    "\n",
    "+ Finish implementation of splitting a tree along a vertical axis\n",
    "+ Use the Split function to finish the MinMax function, which is intended to replace the current shortest_path() function"
   ]
  }
 ],
 "metadata": {
  "kernelspec": {
   "display_name": "Python 3",
   "language": "python",
   "name": "python3"
  },
  "language_info": {
   "codemirror_mode": {
    "name": "ipython",
    "version": 3
   },
   "file_extension": ".py",
   "mimetype": "text/x-python",
   "name": "python",
   "nbconvert_exporter": "python",
   "pygments_lexer": "ipython3",
   "version": "3.10.12"
  }
 },
 "nbformat": 4,
 "nbformat_minor": 5
}
