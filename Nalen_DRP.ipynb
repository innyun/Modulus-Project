{
 "cells": [
  {
   "cell_type": "code",
   "execution_count": 2,
   "id": "86fd1910",
   "metadata": {
    "slideshow": {
     "slide_type": "skip"
    }
   },
   "outputs": [],
   "source": [
    "import matplotlib.pyplot as plt\n",
    "import networkx as nx\n",
    "import numpy as np\n",
    "# import cdd\n",
    "import math\n",
    "import cvxpy as cvx\n",
    "# from collections import deque\n",
    "import random\n",
    "import warnings\n",
    "\n",
    "warnings.filterwarnings('ignore', category=FutureWarning)"
   ]
  },
  {
   "cell_type": "markdown",
   "id": "5ba01ce5",
   "metadata": {
    "slideshow": {
     "slide_type": "slide"
    }
   },
   "source": [
    "# Modulus of families of maximal increasing subsequences"
   ]
  },
  {
   "cell_type": "markdown",
   "id": "29fcd1c8",
   "metadata": {
    "slideshow": {
     "slide_type": "slide"
    }
   },
   "source": [
    "### Information\n",
    "Student: Nalen Rangarajan\n",
    "\n",
    "Graduate Mentor: Ngoc Huy Truong\\\n",
    "Faculty Mentor: Pietro Poggi-Corradini\n",
    "\n",
    "under NODE Group activities"
   ]
  },
  {
   "cell_type": "markdown",
   "id": "8f3bc57b",
   "metadata": {
    "slideshow": {
     "slide_type": "slide"
    }
   },
   "source": [
    "### Items Read\n",
    "Mathematics of Networks: Modulus Theory and Convex Optimization, Nathan Albin and Pietro Poggi-Corradini\n",
    "\n",
    "Finding a Minimum Independent Dominating Set in a Permutation Graph, Mikhail J. Atallah et al.\n",
    "\n",
    "Maintenance of Configurations in the plane, Mark H. Overmars and Jan van Leeuwen\n",
    "\n",
    "Combinatorics and Random Matrix Theory, Jinho Baik"
   ]
  },
  {
   "cell_type": "markdown",
   "id": "fa713a56",
   "metadata": {
    "slideshow": {
     "slide_type": "slide"
    }
   },
   "source": [
    "### Permutations\n",
    "\n",
    "An ordering of elements\n",
    "\n",
    "Consider a permutation of the elements $1,\\dots,8$"
   ]
  },
  {
   "cell_type": "markdown",
   "id": "215fda90",
   "metadata": {},
   "source": [
    "$$\n",
    "\\pi = 2\\ 7\\ 1\\ 6\\ 4\\ 3\\ 5\\ 8\\\n",
    "$$"
   ]
  },
  {
   "cell_type": "code",
   "execution_count": 6,
   "id": "4fc2ed39",
   "metadata": {
    "slideshow": {
     "slide_type": "skip"
    }
   },
   "outputs": [
    {
     "data": {
      "image/png": "[encoded data removed]",
      "text/plain": [
       "<Figure size 300x300 with 1 Axes>"
      ]
     },
     "metadata": {},
     "output_type": "display_data"
    }
   ],
   "source": [
    "pi =  [2, 7, 1, 6, 4, 3, 5, 8]\n",
    "x = range(1,9)\n",
    "\n",
    "# initialize figure\n",
    "fig, fig = plt.subplots(figsize=(3, 3))\n",
    "    \n",
    "plt.scatter(x,pi)\n",
    "\n",
    "# Set the ticks to be at the edges of the bins.\n",
    "fig.set_xticks(range(0,9))\n",
    "fig.set_yticks(range(0,9))\n",
    "plt.grid(True)"
   ]
  },
  {
   "cell_type": "markdown",
   "id": "cc930fe0",
   "metadata": {
    "slideshow": {
     "slide_type": "fragment"
    }
   },
   "source": [
    "<table>\n",
    "<tr>\n",
    "<td>\n",
    "<img src=\"images/NalenDRPImages/Permutation8.png\" width=\"400\">\n",
    "</td>\n",
    "</tr>\n",
    "</table>"
   ]
  },
  {
   "cell_type": "markdown",
   "id": "93c4fe85",
   "metadata": {
    "slideshow": {
     "slide_type": "slide"
    }
   },
   "source": [
    "### Maximal Increasing Subsequences (MISS)\n",
    "\n",
    "A subsequence of elements in a permutation that cannot be extended\n",
    "\n",
    "Given our permutation $2\\ 7\\ 1\\ 6\\ 4\\ 3\\ 5\\ 8\\,$\n",
    "\n",
    "$2\\ 4\\ 5\\ 8\\ $ is a maximal increasing subsequence \n",
    "\n",
    "that corresponds to the indices $1\\ 5\\ 7\\ 8\\ $"
   ]
  },
  {
   "cell_type": "code",
   "execution_count": 9,
   "id": "c40337de",
   "metadata": {
    "hide_input": true,
    "slideshow": {
     "slide_type": "skip"
    }
   },
   "outputs": [
    {
     "data": {
      "image/png": "[encoded data removed]",
      "text/plain": [
       "<Figure size 300x300 with 1 Axes>"
      ]
     },
     "metadata": {},
     "output_type": "display_data"
    }
   ],
   "source": [
    "#small helper image\n",
    "pi =  [2, 7, 1, 6, 4, 3, 5, 8]\n",
    "x = range(1,9)\n",
    "\n",
    "max = [2, 4, 5, 8]\n",
    "maxI = [1, 5, 7, 8]\n",
    "\n",
    "MinMaxMISS = [1, 3, 5, 8]\n",
    "MinMaxMISSI = [3, 6, 7, 8]\n",
    "\n",
    "# initialize figure\n",
    "fig, fig = plt.subplots(figsize=(3, 3))\n",
    "    \n",
    "plt.scatter(x,pi)\n",
    "#plt.plot(badI,bad)\n",
    "#plt.plot(maxI,max)\n",
    "plt.plot(MinMaxMISSI, MinMaxMISS)\n",
    "\n",
    "# Set the ticks to be at the edges of the bins.\n",
    "fig.set_xticks(range(0,9))\n",
    "fig.set_yticks(range(0,9))\n",
    "plt.grid(True)"
   ]
  },
  {
   "cell_type": "markdown",
   "id": "8cc93326",
   "metadata": {
    "slideshow": {
     "slide_type": "fragment"
    }
   },
   "source": [
    "<table>\n",
    "<tr>\n",
    "<td>\n",
    "<img src=\"images/NalenDRPImages/Permutation8MISS.png\" width=\"400\">\n",
    "</td>\n",
    "</tr>\n",
    "</table>"
   ]
  },
  {
   "cell_type": "markdown",
   "id": "b61d62ba",
   "metadata": {
    "slideshow": {
     "slide_type": "slide"
    }
   },
   "source": [
    "### Families\n",
    "\n",
    "$\\Gamma$ represents a family of objects $\\gamma$\n",
    "\n",
    "We then define $\\mathcal{N}$ to be the usage matrix of objects in $\\Gamma$\n",
    "\n",
    "With the previous MISS the row entry in $\\mathcal{N}$ would \n",
    "\n",
    "be $\\begin{bmatrix} 1 & 0 & 0 & 0 & 1 & 0 & 1 & 1 \\end{bmatrix}$"
   ]
  },
  {
   "cell_type": "markdown",
   "id": "bae9a331",
   "metadata": {
    "slideshow": {
     "slide_type": "slide"
    }
   },
   "source": [
    "### Weightings\n",
    "\n",
    "We define our node density $\\rho \\in \\mathbb{R}_{+}^{N}$ and the $\\rho$-length as $\\ell_\\rho(\\gamma) := \\sum_{v = 1}^{N} \\mathcal{N}(\\gamma, v)\\rho(v)$ (the \"cost\" of a MISS)\n",
    "\n",
    "And admissibility as $\\rho$ is admissible for $\\Gamma$ if $\\ell_{\\rho}(\\gamma) \\geq 1 \\: \\: \\:\\forall \\gamma \\in \\Gamma$\n",
    "\n",
    "We then define the p-Modulus as $\\text{Mod}_p(\\Gamma) := \\inf\\limits_{\\rho \\in \\text{Adm}(\\Gamma)}\\sum_{v=1}^{\\text{N}}\\rho(v)^p$"
   ]
  },
  {
   "cell_type": "markdown",
   "id": "6e0cfedb",
   "metadata": {
    "slideshow": {
     "slide_type": "subslide"
    }
   },
   "source": [
    "For example:\n",
    "\n",
    "We see that the 1-Modulus is defined as $\\text{Mod}_1(\\Gamma) := \\inf\\limits_{\\rho \\in \\text{Adm}(\\Gamma)}\\sum_{v=1}^{\\text{N}}\\rho(v)$\n",
    "\n",
    "And the 2-Modulus is defined as $\\text{Mod}_2(\\Gamma) := \\inf\\limits_{\\rho \\in \\text{Adm}(\\Gamma)}\\sum_{v=1}^{\\text{N}}\\rho(v)^2$"
   ]
  },
  {
   "cell_type": "markdown",
   "id": "2a3a9fcf",
   "metadata": {
    "slideshow": {
     "slide_type": "slide"
    }
   },
   "source": [
    "### Two algorithms for computing Modulus:\n",
    "+ Basic Algorithm\n",
    "+ Plus-1 Algorithm"
   ]
  },
  {
   "cell_type": "markdown",
   "id": "04b3210e",
   "metadata": {
    "slideshow": {
     "slide_type": "subslide"
    }
   },
   "source": [
    "<table>\n",
    "<tr>\n",
    "<td>\n",
    "<img src=\"images/basic.png\" width=\"400\">\n",
    "</td>\n",
    "<td>\n",
    "<img src=\"images/new_plusone.png\" width=\"400\">\n",
    "</td>\n",
    "</tr>\n",
    "</table>"
   ]
  },
  {
   "cell_type": "markdown",
   "id": "6782e4f9",
   "metadata": {
    "slideshow": {
     "slide_type": "fragment"
    }
   },
   "source": [
    "The Basic Algorithm results in a convex optimization problem\n",
    "\n",
    "While the Plus-1 Algorithm results in a probabilistic approach"
   ]
  },
  {
   "cell_type": "markdown",
   "id": "97a5717b",
   "metadata": {
    "slideshow": {
     "slide_type": "slide"
    }
   },
   "source": [
    "### Shortest Path\n",
    "\n",
    "<table>\n",
    "<tr>\n",
    "<td>\n",
    "<img src=\"images/augmenteddfs.png\" width=\"600\">\n",
    "</td>\n",
    "</tr>\n",
    "</table>"
   ]
  },
  {
   "cell_type": "markdown",
   "id": "0f495480",
   "metadata": {
    "slideshow": {
     "slide_type": "slide"
    }
   },
   "source": [
    "### The Problem\n",
    "\n",
    "Another way to find MISS with minimum weight in a permutation graph is through Djikstra's algorithm\n",
    "\n",
    "In general, these methods are slow\n",
    "\n",
    "Goal: Find a more efficient algorithm for computing the shortest path"
   ]
  },
  {
   "cell_type": "markdown",
   "id": "bcf54c27",
   "metadata": {
    "slideshow": {
     "slide_type": "slide"
    }
   },
   "source": [
    "### Our Implementation\n",
    "\n",
    "From here we now turn to the process of implementing an algorithm to find a minimum weight MISS from Atallah et al and Mark H. Overmars and Jan van Leeuwen"
   ]
  },
  {
   "cell_type": "markdown",
   "id": "55afed1d",
   "metadata": {
    "slideshow": {
     "slide_type": "slide"
    }
   },
   "source": [
    "### Notation\n",
    "\n",
    "Before getting into the data structure, let's first cover some notation\n",
    "\n",
    "+ We consider a sequence $ a_1,\\dots,a_n $, let $ B_i $ be the set of shortest MISS that end with $ a_i $\n",
    "+ Every sequence present in $ B_i $ will be of the same length, this length is denoted label(i)\n",
    "+ Next we define predecessor(i) as follows\n",
    "    + If label(i) > 1, then there exists some sequence in $B_i$ that ends with $a_{\\text{predecessor}(i)}a_i$\n",
    "    + If label(i) = 1, then predecessor(i) = $\\emptyset$\n",
    "+ Next we define a point $p_i$ is said to dominate $p_j$ if x($p_i$) > x($p_j$) $\\land$ y($p_i$) > y($p_j$)\n",
    "+ DOM($p_i$) denotes the set of points that are dominated by $p_i$\n",
    "+ $p_i$ is considered a maximum of $P$ if no other point $p_j \\in  P$ dominates it, MAX($P$) is comprised of these points $p_i$"
   ]
  },
  {
   "cell_type": "markdown",
   "id": "7aa52d7d",
   "metadata": {
    "slideshow": {
     "slide_type": "subslide"
    }
   },
   "source": [
    "For example if we consider $\\pi = 2\\ 7\\ 1\\ 6\\ 4\\ 3\\ 5\\ 8\\ $\n",
    "\n",
    "Then $B_4 = \\{ [\\ 2\\ 6 ]\\,\\ [\\ 1\\ 6\\ ]\\ \\}$\n",
    "\n",
    "label(4) = 2\n",
    "\n",
    "predecessor(4) = {1} = 3"
   ]
  },
  {
   "cell_type": "markdown",
   "id": "ee820aef",
   "metadata": {
    "slideshow": {
     "slide_type": "slide"
    }
   },
   "source": [
    "### Idea\n",
    "\n",
    "We know from Overmars and van Leeuwen that there exists a data structure that allows us to dynamically maintain the maxima of a set of points in a plane\n",
    "\n",
    "This data structure should support the following operations\n",
    "+ Down\n",
    "+ Up\n",
    "+ Concatenate\n",
    "+ Split"
   ]
  },
  {
   "cell_type": "markdown",
   "id": "57a6e42f",
   "metadata": {
    "slideshow": {
     "slide_type": "slide"
    }
   },
   "source": [
    "### Algorithm\n",
    "\n",
    "Input: A sequence $ a_1,\\dots,a_n $\n",
    "\n",
    "Output: A minimum-length MISS of $ a_1,\\dots,a_n $\n",
    "\n",
    "Method: We first set label(1) = 1 and predecessor(1) = $\\emptyset$\n",
    "\n",
    "From there we \"sweep\" a line $L$ across the graph of our points\n",
    "\n",
    "At each step we construct a tree $T$ comprised of the points on the left of $L$\n",
    "\n",
    "As we sweep we ensure that we maintain the maxima and the smallest-labelled maximum of the points to the left of $L$ at the root of $T$\n",
    "\n",
    "When a certain point is encountered we complete the following steps"
   ]
  },
  {
   "cell_type": "markdown",
   "id": "ac365a67",
   "metadata": {
    "slideshow": {
     "slide_type": "subslide"
    }
   },
   "source": [
    "### Step 1\n",
    "\n",
    "First, we apply the split operation on our tree $T$ with the point $p_i$\n",
    "\n",
    "Such that we have two trees, $T_{up}$ and $T_{down}$, $T_{down}$ contain MAX(DOM($p_i$)) and the smallest-labelled point of the MAX(DOM($p_i$))"
   ]
  },
  {
   "cell_type": "markdown",
   "id": "b6320351",
   "metadata": {
    "slideshow": {
     "slide_type": "subslide"
    }
   },
   "source": [
    "### Step 2\n",
    "\n",
    "If MAX(DOM($p_i$)) at the root of $T_{down}$ is the empty set then label(i) must be 1 and predecessor(i) must be $\\emptyset$\n",
    "\n",
    "Otherwise we set predecessor(i) := the index of the smallest-labeled point $p_j$ of the MAX(DOM($p_i$)), and label(i) is equal to 1 + label(j)"
   ]
  },
  {
   "cell_type": "markdown",
   "id": "105f4fb9",
   "metadata": {
    "slideshow": {
     "slide_type": "subslide"
    }
   },
   "source": [
    "### Step 3\n",
    "\n",
    "Lastly we rebuild $T$ from step 1 with the Concatenate operation using $T_{up}$ and $T_{down}$\n",
    "\n",
    "From there we insert $p_i$ to get $T'$"
   ]
  },
  {
   "cell_type": "markdown",
   "id": "1fe61553",
   "metadata": {
    "slideshow": {
     "slide_type": "subslide"
    }
   },
   "source": [
    "### After Completing the Sweep\n",
    "\n",
    "$\\beta$ := index k of the smallest label in MAX($P$)\n",
    "\n",
    "From here we then trace $\\beta$ backwards as follows:\n",
    "+ If predecessor(k) != $\\emptyset$ then \n",
    "    + $\\beta := a_{\\text{predecessor}(k)}\\beta$\n",
    "    + $k={\\text{predecessor}(k)}$\n",
    "+ If predecessor(k) = $\\emptyset$ then output $\\beta$"
   ]
  },
  {
   "cell_type": "markdown",
   "id": "f6835cef",
   "metadata": {
    "slideshow": {
     "slide_type": "slide"
    }
   },
   "source": [
    "### Example\n",
    "\n",
    "Now let's go through an example of this\n",
    "\n",
    "$\\pi = 2\\ 7\\ 1\\ 6\\ 4\\ 3\\ 5\\ 8\\ $"
   ]
  },
  {
   "cell_type": "markdown",
   "id": "7ce3ced9",
   "metadata": {
    "slideshow": {
     "slide_type": "subslide"
    }
   },
   "source": [
    "### Iteration 1:\n",
    "\n",
    "$\\pi = 2\\ 7\\ 1\\ 6\\ 4\\ 3\\ 5\\ 8\\ $\n",
    "\n",
    "<table>\n",
    "<tr>\n",
    "<td>\n",
    "<img src=\"images/NalenDRPImages/Permutation8.png\" width=\"300\">\n",
    "</td>\n",
    "</tr>\n",
    "</table>\n",
    "\n",
    "We have an empty tree, so MAX(DOM($p_1$)) = $\\emptyset$\n",
    "\n",
    "So predecessor(1) = $\\emptyset$ and label(1) = 1"
   ]
  },
  {
   "cell_type": "markdown",
   "id": "5ab7ede0",
   "metadata": {
    "slideshow": {
     "slide_type": "subslide"
    }
   },
   "source": [
    "### Iteration 2:\n",
    "\n",
    "$\\pi = 2\\ 7\\ 1\\ 6\\ 4\\ 3\\ 5\\ 8\\ $\n",
    "\n",
    "<table>\n",
    "<tr>\n",
    "<td>\n",
    "<img src=\"images/NalenDRPImages/MinMaxExample/Ex2.png\" width=\"300\">\n",
    "</td>\n",
    "<td>\n",
    "<img src=\"images/NalenDRPImages/Permutation8.png\" width=\"300\">\n",
    "</td>\n",
    "</tr>\n",
    "</table>\n",
    "\n",
    "MAX(DOM($p_2$)) = {2}\n",
    "\n",
    "So predecessor(2) = {2} = 1 and label(2) = 1 + 1 = 2"
   ]
  },
  {
   "cell_type": "markdown",
   "id": "b726558f",
   "metadata": {
    "slideshow": {
     "slide_type": "subslide"
    }
   },
   "source": [
    "### Iteration 3:\n",
    "\n",
    "$\\pi = 2\\ 7\\ 1\\ 6\\ 4\\ 3\\ 5\\ 8\\ $\n",
    "\n",
    "<table>\n",
    "<tr>\n",
    "<td>\n",
    "<img src=\"images/NalenDRPImages/MinMaxExample/Ex3.png\" width=\"300\">\n",
    "</td>\n",
    "<td>\n",
    "<img src=\"images/NalenDRPImages/Permutation8.png\" width=\"300\">\n",
    "</td>\n",
    "</tr>\n",
    "</table>\n",
    "\n",
    "MAX(DOM($p_3$)) = $\\emptyset$\n",
    "\n",
    "So predecessor(3) = $\\emptyset$ and label(3) = 1"
   ]
  },
  {
   "cell_type": "markdown",
   "id": "300c7017",
   "metadata": {
    "slideshow": {
     "slide_type": "subslide"
    }
   },
   "source": [
    "### Iteration 4:\n",
    "\n",
    "$\\pi = 2\\ 7\\ 1\\ 6\\ 4\\ 3\\ 5\\ 8\\ $\n",
    "\n",
    "<table>\n",
    "<tr>\n",
    "<td>\n",
    "<img src=\"images/NalenDRPImages/MinMaxExample/Ex4.png\" width=\"300\">\n",
    "</td>\n",
    "<td>\n",
    "<img src=\"images/NalenDRPImages/Permutation8.png\" width=\"300\">\n",
    "</td>\n",
    "</tr>\n",
    "</table>\n",
    "\n",
    "MAX(DOM($p_4$)) = {2,1} and smallest is {1}\n",
    "\n",
    "So predecessor(4) = {1} = 3 and label(4) = 1 + 1 = 2"
   ]
  },
  {
   "cell_type": "markdown",
   "id": "eaa81f64",
   "metadata": {
    "slideshow": {
     "slide_type": "subslide"
    }
   },
   "source": [
    "### Iteration 5:\n",
    "\n",
    "$\\pi = 2\\ 7\\ 1\\ 6\\ 4\\ 3\\ 5\\ 8\\ $\n",
    "\n",
    "<table>\n",
    "<tr>\n",
    "<td>\n",
    "<img src=\"images/NalenDRPImages/MinMaxExample/Ex5.png\" width=\"300\">\n",
    "</td>\n",
    "<td>\n",
    "<img src=\"images/NalenDRPImages/Permutation8.png\" width=\"300\">\n",
    "</td>\n",
    "</tr>\n",
    "</table>\n",
    "\n",
    "MAX(DOM($p_5$)) = {2,1} and smallest is {1}\n",
    "\n",
    "So predecessor(5) = {1} = 3 and label(5) = 1 + 1 = 2"
   ]
  },
  {
   "cell_type": "markdown",
   "id": "f42db637",
   "metadata": {
    "slideshow": {
     "slide_type": "subslide"
    }
   },
   "source": [
    "### Iteration 6:\n",
    "\n",
    "$\\pi = 2\\ 7\\ 1\\ 6\\ 4\\ 3\\ 5\\ 8\\ $\n",
    "\n",
    "<table>\n",
    "<tr>\n",
    "<td>\n",
    "<img src=\"images/NalenDRPImages/MinMaxExample/Ex6.png\" width=\"300\">\n",
    "</td>\n",
    "<td>\n",
    "<img src=\"images/NalenDRPImages/Permutation8.png\" width=\"300\">\n",
    "</td>\n",
    "</tr>\n",
    "</table>\n",
    "\n",
    "MAX(DOM($p_6$)) = {2,1} and smallest is {1}\n",
    "\n",
    "So predecessor(6) = {1} = 3 and label(6) = 1 + 1 = 2"
   ]
  },
  {
   "cell_type": "markdown",
   "id": "252f3cde",
   "metadata": {
    "slideshow": {
     "slide_type": "subslide"
    }
   },
   "source": [
    "### Iteration 7:\n",
    "\n",
    "$\\pi = 2\\ 7\\ 1\\ 6\\ 4\\ 3\\ 5\\ 8\\ $\n",
    "\n",
    "<table>\n",
    "<tr>\n",
    "<td>\n",
    "<img src=\"images/NalenDRPImages/MinMaxExample/Ex7.png\" width=\"300\">\n",
    "</td>\n",
    "<td>\n",
    "<img src=\"images/NalenDRPImages/Permutation8.png\" width=\"300\">\n",
    "</td>\n",
    "</tr>\n",
    "</table>\n",
    "\n",
    "MAX(DOM($p_7$)) = {4,3} and smallest is {3}\n",
    "\n",
    "So predecessor(7) = {3} = 6 and label(7) = 2 + 1 = 3"
   ]
  },
  {
   "cell_type": "markdown",
   "id": "0bd22994",
   "metadata": {
    "slideshow": {
     "slide_type": "subslide"
    }
   },
   "source": [
    "### Iteration 8:\n",
    "\n",
    "$\\pi = 2\\ 7\\ 1\\ 6\\ 4\\ 3\\ 5\\ 8\\ $\n",
    "\n",
    "<table>\n",
    "<tr>\n",
    "<td>\n",
    "<img src=\"images/NalenDRPImages/MinMaxExample/Ex8.png\" width=\"300\">\n",
    "</td>\n",
    "<td>\n",
    "<img src=\"images/NalenDRPImages/Permutation8.png\" width=\"300\">\n",
    "</td>\n",
    "</tr>\n",
    "</table>\n",
    "\n",
    "MAX(DOM($p_8$)) = {7,6,5} and smallest is {5}\n",
    "\n",
    "So predecessor(8) = {5} = 7 and label(8) = 3 + 1 = 4"
   ]
  },
  {
   "cell_type": "markdown",
   "id": "4a9fee9e",
   "metadata": {
    "slideshow": {
     "slide_type": "subslide"
    }
   },
   "source": [
    "### Result\n",
    "\n",
    "Lastly, we see that MAX($P$) = {8} $\\implies$ k = 8"
   ]
  },
  {
   "cell_type": "markdown",
   "id": "915d7f46",
   "metadata": {
    "slideshow": {
     "slide_type": "fragment"
    }
   },
   "source": [
    "So $\\beta = {8} = p_8$ and k = predecessor(8) = 7"
   ]
  },
  {
   "cell_type": "markdown",
   "id": "abfee250",
   "metadata": {
    "slideshow": {
     "slide_type": "fragment"
    }
   },
   "source": [
    "Then $\\beta = a_7\\beta =$ {5,8} and k = predecessor(7) = 6"
   ]
  },
  {
   "cell_type": "markdown",
   "id": "5dc01089",
   "metadata": {
    "slideshow": {
     "slide_type": "fragment"
    }
   },
   "source": [
    "Then $\\beta = a_6\\beta =$ {3,5,8} and k = predecessor(6) = 3"
   ]
  },
  {
   "cell_type": "markdown",
   "id": "06a9a8aa",
   "metadata": {
    "slideshow": {
     "slide_type": "fragment"
    }
   },
   "source": [
    "Then $\\beta = a_3\\beta =$ {1,3,5,8} and k = predecessor(3) = $\\emptyset$"
   ]
  },
  {
   "cell_type": "markdown",
   "id": "86fa269a",
   "metadata": {
    "slideshow": {
     "slide_type": "fragment"
    }
   },
   "source": [
    "Since we reached $\\emptyset$ we have that $\\beta = $ {1,3,5,8} which is the shortest MISS"
   ]
  },
  {
   "cell_type": "markdown",
   "id": "d650d90d",
   "metadata": {
    "slideshow": {
     "slide_type": "subslide"
    }
   },
   "source": [
    "<table>\n",
    "<tr>\n",
    "<td>\n",
    "<img src=\"images/NalenDRPImages/MinMaxExample/FinalTree.png\" width=\"400\">\n",
    "</td>\n",
    "<td>\n",
    "<img src=\"images/NalenDRPImages/MinMaxExample/MISS.png\" width=\"400\">\n",
    "</td>\n",
    "</tr>\n",
    "</table>"
   ]
  },
  {
   "cell_type": "markdown",
   "id": "705f4f87",
   "metadata": {
    "slideshow": {
     "slide_type": "skip"
    }
   },
   "source": [
    "### How to Build the Tree T\n",
    "\n",
    "What is an AVL Tree?\n",
    "\n",
    "An AVL Tree is similar to the standard tree that you would encounter in graph theory\n",
    "\n",
    "But\n",
    "+ It is a binary tree, meaning each node has a maximum of two children\n",
    "+ It has automatic rebalancing, so if the children of a node have a height difference > 1, we rebalance the tree\n",
    "\n",
    "Let's take a look at an example of this"
   ]
  },
  {
   "cell_type": "markdown",
   "id": "7701af68",
   "metadata": {
    "slideshow": {
     "slide_type": "skip"
    }
   },
   "source": [
    "Using our earlier permutation $ \\pi = 2\\ 7\\ 1\\ 6\\ 4\\ 3\\ 5\\ 8\\ $\n",
    "\n",
    "With this new data structure we get this tree:"
   ]
  },
  {
   "cell_type": "markdown",
   "id": "45edbba1",
   "metadata": {
    "slideshow": {
     "slide_type": "skip"
    }
   },
   "source": [
    "<table>\n",
    "<tr>\n",
    "<td>\n",
    "<img src=\"images/NalenDRPImages/AVLPerm8.png\" width=\"750\">\n",
    "</td>\n",
    "<td>\n",
    "<img src=\"images/NalenDRPImages/Permutation8.png\" width=\"500\">\n",
    "</td>\n",
    "</tr>\n",
    "</table>"
   ]
  },
  {
   "cell_type": "markdown",
   "id": "e0447ccd",
   "metadata": {
    "slideshow": {
     "slide_type": "skip"
    }
   },
   "source": [
    "### Walkthrough of Implementation\n",
    "\n",
    "Additionally, this implementation also allows for concatenation of permutations\n",
    "\n",
    "Let's call the earlier permutation $\\pi_1$ and we will denote $ \\pi_2 = 12\\ 9\\ 10\\ 11\\ $"
   ]
  },
  {
   "cell_type": "markdown",
   "id": "fb936acf",
   "metadata": {
    "slideshow": {
     "slide_type": "skip"
    }
   },
   "source": [
    "We first create two trees called $T_1$ and $T_2$ representing the two permutations $ \\pi_1 $ and $ \\pi_2 $"
   ]
  },
  {
   "cell_type": "markdown",
   "id": "96ee258b",
   "metadata": {
    "slideshow": {
     "slide_type": "skip"
    }
   },
   "source": [
    "<table>\n",
    "<tr>\n",
    "<td>\n",
    "<img src=\"images/NalenDRPImages/AVLPerm8.png\" width=\"800\">\n",
    "</td>\n",
    "<td>\n",
    "<img src=\"images/NalenDRPImages/AVLPerm4.png\" width=\"800\">\n",
    "</td>\n",
    "</tr>\n",
    "</table>"
   ]
  },
  {
   "cell_type": "markdown",
   "id": "8b5dcf6c",
   "metadata": {
    "slideshow": {
     "slide_type": "skip"
    }
   },
   "source": [
    "### Down\n",
    "The first step in the concatenation of these two permutations is a process called Down\n",
    "\n",
    "This function allows us to traverse through a tree in search for a specific node, or in our case the right-most node"
   ]
  },
  {
   "cell_type": "markdown",
   "id": "d06cbf77",
   "metadata": {
    "slideshow": {
     "slide_type": "skip"
    }
   },
   "source": [
    "<table>\n",
    "<tr>\n",
    "<td>\n",
    "<img src=\"images/NalenDRPImages/Down.png\" width=\"600\">\n",
    "</td>\n",
    "</tr>\n",
    "</table>"
   ]
  },
  {
   "cell_type": "markdown",
   "id": "f5b04450",
   "metadata": {
    "slideshow": {
     "slide_type": "skip"
    }
   },
   "source": [
    "### Up\n",
    "\n",
    "The next step upon finding this node is to insert $T_2$ as a child of this right-most node in $T_1$\n",
    "\n",
    "From here we use the Up function to drag $T_2$ up into $T_1$"
   ]
  },
  {
   "cell_type": "markdown",
   "id": "ee081ae5",
   "metadata": {
    "slideshow": {
     "slide_type": "skip"
    }
   },
   "source": [
    "<table>\n",
    "<tr>\n",
    "<td>\n",
    "<img src=\"images/NalenDRPImages/Up.png\" width=\"500\">\n",
    "</td>\n",
    "</tr>\n",
    "</table>"
   ]
  },
  {
   "cell_type": "markdown",
   "id": "3b7d0059",
   "metadata": {
    "slideshow": {
     "slide_type": "skip"
    }
   },
   "source": [
    "<table>\n",
    "<tr>\n",
    "<td>\n",
    "<img src=\"images/NalenDRPImages/BeginningUp.png\" width=\"600\">\n",
    "</td>\n",
    "</tr>\n",
    "</table>"
   ]
  },
  {
   "cell_type": "markdown",
   "id": "2783575d",
   "metadata": {
    "slideshow": {
     "slide_type": "skip"
    }
   },
   "source": [
    "### Drag Up The Tree"
   ]
  },
  {
   "cell_type": "markdown",
   "id": "3c6de70a",
   "metadata": {
    "slideshow": {
     "slide_type": "skip"
    }
   },
   "source": [
    "<table>\n",
    "<tr>\n",
    "<td>\n",
    "<img src=\"images/NalenDRPImages/Step2Up.png\" width=\"600\">\n",
    "</td>\n",
    "</tr>\n",
    "</table>"
   ]
  },
  {
   "cell_type": "markdown",
   "id": "7bd2ae9f",
   "metadata": {
    "slideshow": {
     "slide_type": "skip"
    }
   },
   "source": [
    "<table>\n",
    "<tr>\n",
    "<td>\n",
    "<img src=\"images/NalenDRPImages/Step3Up.png\" width=\"600\">\n",
    "</td>\n",
    "</tr>\n",
    "</table>"
   ]
  },
  {
   "cell_type": "markdown",
   "id": "5463f24a",
   "metadata": {
    "slideshow": {
     "slide_type": "skip"
    }
   },
   "source": [
    "<table>\n",
    "<tr>\n",
    "<td>\n",
    "<img src=\"images/NalenDRPImages/Step4Up.png\" width=\"600\">\n",
    "</td>\n",
    "</tr>\n",
    "</table>"
   ]
  },
  {
   "cell_type": "markdown",
   "id": "1b70a666",
   "metadata": {
    "slideshow": {
     "slide_type": "skip"
    }
   },
   "source": [
    "<table>\n",
    "<tr>\n",
    "<td>\n",
    "<img src=\"images/NalenDRPImages/Step5Up.png\" width=\"600\">\n",
    "</td>\n",
    "</tr>\n",
    "</table>"
   ]
  },
  {
   "cell_type": "markdown",
   "id": "561a790b",
   "metadata": {
    "slideshow": {
     "slide_type": "skip"
    }
   },
   "source": [
    "### Finishing Touches\n",
    "\n",
    "Lastly we ensure that our tree is balanced and from there we have completed the concatenation of $ \\pi_1 $ and $ \\pi_2 $"
   ]
  },
  {
   "cell_type": "markdown",
   "id": "14dc2eaf",
   "metadata": {
    "slideshow": {
     "slide_type": "skip"
    }
   },
   "source": [
    "<table>\n",
    "<tr>\n",
    "<td>\n",
    "<img src=\"images/NalenDRPImages/FinalTree.png\" width=\"600\">\n",
    "</td>\n",
    "<td>\n",
    "<img src=\"images/NalenDRPImages/Permutation12.png\" width=\"450\">\n",
    "</td>\n",
    "</tr>\n",
    "</table>"
   ]
  },
  {
   "cell_type": "code",
   "execution_count": 8,
   "id": "c7705936",
   "metadata": {
    "slideshow": {
     "slide_type": "skip"
    }
   },
   "outputs": [
    {
     "data": {
      "image/png": "[encoded data removed]",
      "text/plain": [
       "<Figure size 300x300 with 1 Axes>"
      ]
     },
     "metadata": {},
     "output_type": "display_data"
    }
   ],
   "source": [
    "pi2 =  [2, 7, 1, 6, 4, 3, 5, 8, 12, 9, 10, 11]\n",
    "x2 = range(1,13)\n",
    "\n",
    "# initialize figure\n",
    "fig, fig = plt.subplots(figsize=(3, 3))\n",
    "    \n",
    "plt.scatter(x2,pi2)\n",
    "\n",
    "# Set the ticks to be at the edges of the bins.\n",
    "fig.set_xticks(range(0,13))\n",
    "fig.set_yticks(range(0,13))\n",
    "plt.grid(True)"
   ]
  },
  {
   "cell_type": "markdown",
   "id": "1c151f12",
   "metadata": {
    "slideshow": {
     "slide_type": "skip"
    }
   },
   "source": [
    "### Concatenate\n",
    "\n",
    "This entire process is encompassed in the following pseudocode"
   ]
  },
  {
   "cell_type": "markdown",
   "id": "d57c6f92",
   "metadata": {
    "slideshow": {
     "slide_type": "skip"
    }
   },
   "source": [
    "<table>\n",
    "<tr>\n",
    "<td>\n",
    "<img src=\"images/NalenDRPImages/Concatenate.png\" width=\"350\">\n",
    "</td>\n",
    "</tr>\n",
    "</table>"
   ]
  },
  {
   "cell_type": "markdown",
   "id": "4e9c3b12",
   "metadata": {
    "slideshow": {
     "slide_type": "skip"
    }
   },
   "source": [
    "### Split\n",
    "\n",
    "This operation should allow us to split our data structure along a horizontal line in our graph (vertical line in our tree)\n",
    "\n",
    "This should effectively be the inverse operation to Concatenate"
   ]
  },
  {
   "cell_type": "markdown",
   "id": "be8d1e03",
   "metadata": {
    "slideshow": {
     "slide_type": "skip"
    }
   },
   "source": [
    "### How does it work?\n",
    "\n",
    "1. Trace a path $p$ down to a specific node $y$\n",
    "2. Create two sets L and R\n",
    "    + L = { n | father(n) $ \\in $ p $ \\land \\exists $ x $ \\in $ p where x.leftchild = n }\n",
    "    + R = { n | father(n) $ \\in $ p $ \\land \\exists $ x $ \\in $ p where x.rightchild = n }\n",
    "3. Each node in L and R is actually a tree, so these are Concatenated together\n",
    "4. The result is two tree structures $T_{up}$ and $T_{down}$"
   ]
  },
  {
   "cell_type": "markdown",
   "id": "a3ec55eb",
   "metadata": {
    "slideshow": {
     "slide_type": "slide"
    }
   },
   "source": [
    "### Future Work\n",
    "\n",
    "+ Finish implementation of Split\n",
    "+ See comparison between shortest_path and MinMax\n",
    "    + We should see that MinMax operates in O($nlog^2n$)"
   ]
  }
 ],
 "metadata": {
  "kernelspec": {
   "display_name": "Python 3",
   "language": "python",
   "name": "python3"
  },
  "language_info": {
   "codemirror_mode": {
    "name": "ipython",
    "version": 3
   },
   "file_extension": ".py",
   "mimetype": "text/x-python",
   "name": "python",
   "nbconvert_exporter": "python",
   "pygments_lexer": "ipython3",
   "version": "3.10.12"
  }
 },
 "nbformat": 4,
 "nbformat_minor": 5
}
